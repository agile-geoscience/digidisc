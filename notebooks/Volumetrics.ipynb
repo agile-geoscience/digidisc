{
 "cells": [
  {
   "cell_type": "markdown",
   "metadata": {},
   "source": [
    "# Volumetrics\n",
    "\n",
    "We'll implement the volumetric equation to compute hydrocarbons in place (HCIP):\n",
    "\n",
    "$$ \\mathrm{HCIP} = A \\times T \\times G \\times \\phi \\times N\\!\\!:\\!\\!G \\times S_\\mathrm{O} \\times \\frac{1}{B_\\mathrm{O}} $$\n",
    "\n",
    "On the way, we'll see the following important patterns:\n",
    "\n",
    "- Using functions to represent equations and chunks of computation.\n",
    "- The library `pint` for dealing with physical units and currencies.\n",
    "- Using a web API to retrieve live oil prices from the Internet.\n",
    "- The generation of random variables for stochastic simulation.\n",
    "- The mapping of a function to a large dataset to do a lot of work at once.\n",
    "----\n",
    "\n",
    "\n",
    "## Gross rock volume \n",
    "\n",
    "$$ \\mathrm{GRV} = A \\times T $$"
   ]
  },
  {
   "cell_type": "code",
   "execution_count": 1,
   "metadata": {},
   "outputs": [
    {
     "data": {
      "text/plain": [
       "48000000000"
      ]
     },
     "execution_count": 1,
     "metadata": {},
     "output_type": "execute_result"
    }
   ],
   "source": [
    "thick = 80            # metres\n",
    "area = 20000 * 30000  # metres\n",
    "\n",
    "grv = thick * area\n",
    "grv"
   ]
  },
  {
   "cell_type": "markdown",
   "metadata": {},
   "source": [
    "Wouldn't it be cool if we could carry units around with our calculations? With [`pint`](https://pint.readthedocs.io/en/latest/index.html), we can!"
   ]
  },
  {
   "cell_type": "code",
   "execution_count": 2,
   "metadata": {},
   "outputs": [
    {
     "name": "stdout",
     "output_type": "stream",
     "text": [
      "Requirement already satisfied: pint in /home/matt/anaconda3/envs/digdisc/lib/python3.6/site-packages (0.8.1)\r\n"
     ]
    }
   ],
   "source": [
    "!pip install pint"
   ]
  },
  {
   "cell_type": "code",
   "execution_count": 3,
   "metadata": {},
   "outputs": [
    {
     "data": {
      "text/html": [
       "48000000000.0 meter<sup>3</sup>"
      ],
      "text/latex": [
       "$48000000000.0\\ \\mathrm{meter}^{3}$"
      ],
      "text/plain": [
       "<Quantity(48000000000.0, 'meter ** 3')>"
      ]
     },
     "execution_count": 3,
     "metadata": {},
     "output_type": "execute_result"
    }
   ],
   "source": [
    "import pint\n",
    "\n",
    "unit = pint.UnitRegistry()\n",
    "\n",
    "thick = 80 * unit.m\n",
    "area = 20000 * unit.m * 30000 * unit.m\n",
    "grv = thick * area\n",
    "grv"
   ]
  },
  {
   "cell_type": "code",
   "execution_count": 4,
   "metadata": {},
   "outputs": [],
   "source": [
    "def calculate_grv(thickness, area):\n",
    "    return thickness * area"
   ]
  },
  {
   "cell_type": "markdown",
   "metadata": {},
   "source": [
    "Now we can just call this function, instead of remembering the equation. (Admittedly, the equation is rather easy to remember in this case!)"
   ]
  },
  {
   "cell_type": "code",
   "execution_count": 5,
   "metadata": {},
   "outputs": [
    {
     "data": {
      "text/html": [
       "48000000000.0 meter<sup>3</sup>"
      ],
      "text/latex": [
       "$48000000000.0\\ \\mathrm{meter}^{3}$"
      ],
      "text/plain": [
       "<Quantity(48000000000.0, 'meter ** 3')>"
      ]
     },
     "execution_count": 5,
     "metadata": {},
     "output_type": "execute_result"
    }
   ],
   "source": [
    "calculate_grv(thick, area)"
   ]
  },
  {
   "cell_type": "markdown",
   "metadata": {},
   "source": [
    "It works!\n",
    "\n",
    "Now we need to compensate for the prospect not being a flat slab of rock &mdash; using the geometric factor. \n",
    "\n",
    "We will implement the equations implied by this diagram:"
   ]
  },
  {
   "cell_type": "markdown",
   "metadata": {
    "scrolled": true
   },
   "source": [
    "<html><img src=\"http://subsurfwiki.org/images/6/66/Geometric_correction_factor.png\", width=600></html>"
   ]
  },
  {
   "cell_type": "code",
   "execution_count": 7,
   "metadata": {},
   "outputs": [],
   "source": [
    "def geometric_factor(thick, height, top='slab'):\n",
    "\n",
    "    ratio = thick / height\n",
    "\n",
    "    if top == 'round':\n",
    "        g = -0.6 * ratio + 1\n",
    "    elif top == 'flat':\n",
    "        g = -0.3 * ratio + 1\n",
    "    else:\n",
    "        g = 1\n",
    "\n",
    "    return g"
   ]
  },
  {
   "cell_type": "code",
   "execution_count": 8,
   "metadata": {},
   "outputs": [
    {
     "data": {
      "text/html": [
       "0.52 dimensionless"
      ],
      "text/latex": [
       "$0.52\\ dimensionless$"
      ],
      "text/plain": [
       "<Quantity(0.52, 'dimensionless')>"
      ]
     },
     "execution_count": 8,
     "metadata": {},
     "output_type": "execute_result"
    }
   ],
   "source": [
    "geometric_factor(thick, height=100*unit.m, top='round')"
   ]
  },
  {
   "cell_type": "code",
   "execution_count": 9,
   "metadata": {},
   "outputs": [
    {
     "ename": "NameError",
     "evalue": "name 'g' is not defined",
     "output_type": "error",
     "traceback": [
      "\u001b[0;31m---------------------------------------------------------------------------\u001b[0m",
      "\u001b[0;31mNameError\u001b[0m                                 Traceback (most recent call last)",
      "\u001b[0;32m<ipython-input-9-fa8ebb93c4f2>\u001b[0m in \u001b[0;36m<module>\u001b[0;34m\u001b[0m\n\u001b[0;32m----> 1\u001b[0;31m \u001b[0mgrv\u001b[0m \u001b[0;34m*=\u001b[0m \u001b[0mg\u001b[0m\u001b[0;34m\u001b[0m\u001b[0m\n\u001b[0m",
      "\u001b[0;31mNameError\u001b[0m: name 'g' is not defined"
     ]
    }
   ],
   "source": [
    "grv *= g"
   ]
  },
  {
   "cell_type": "markdown",
   "metadata": {},
   "source": [
    "## HC pore volume\n",
    "\n",
    "We need:\n",
    "\n",
    "- net:gross &mdash; the ratio of reservoir-quality rock thickness to the total thickness of the interval.\n",
    "- porosity\n",
    "- $S_\\mathrm{O}$ &mdash; the oil saturation, or proportion of oil to total pore fluid."
   ]
  },
  {
   "cell_type": "code",
   "execution_count": 10,
   "metadata": {},
   "outputs": [],
   "source": [
    "# These are all dimensionless\n",
    "netg = 0.5\n",
    "por = 0.24\n",
    "s_o = 0.8\n",
    "\n",
    "hcpv = netg * por * s_o"
   ]
  },
  {
   "cell_type": "code",
   "execution_count": 11,
   "metadata": {},
   "outputs": [],
   "source": [
    "def calculate_hcpv(netg, por, s_o):\n",
    "    \"\"\"A function to compute the hydrocarbon pore volume.\"\"\"\n",
    "    hcpv = netg * por * s_o\n",
    "    return hcpv"
   ]
  },
  {
   "cell_type": "markdown",
   "metadata": {},
   "source": [
    "## Hydrocarbons in place\n",
    "\n",
    "Oil shrinks when we produce it, especially if it has high GOR. The FVF, or $B_O$, is the ratio of a reservoir barrel to a stock-tank barrel (25 deg C and 1 atm). Typically the FVF is between 1 (heavy oil) and 1.7 (high GOR)."
   ]
  },
  {
   "cell_type": "code",
   "execution_count": 17,
   "metadata": {},
   "outputs": [],
   "source": [
    "fvf = 1.1"
   ]
  },
  {
   "cell_type": "code",
   "execution_count": 18,
   "metadata": {},
   "outputs": [
    {
     "data": {
      "text/html": [
       "4189090909.0909085 meter<sup>3</sup>"
      ],
      "text/latex": [
       "$4189090909.0909085\\ \\mathrm{meter}^{3}$"
      ],
      "text/plain": [
       "<Quantity(4189090909.0909085, 'meter ** 3')>"
      ]
     },
     "execution_count": 18,
     "metadata": {},
     "output_type": "execute_result"
    }
   ],
   "source": [
    "hcip = grv * hcpv / fvf\n",
    "hcip"
   ]
  },
  {
   "cell_type": "code",
   "execution_count": 19,
   "metadata": {},
   "outputs": [
    {
     "name": "stdout",
     "output_type": "stream",
     "text": [
      "HCIP is 4189 million meter ** 3\n"
     ]
    }
   ],
   "source": [
    "print(\"HCIP is {:.0f} million {}\".format(hcip.magnitude/1000000, hcip.units))"
   ]
  },
  {
   "cell_type": "code",
   "execution_count": 20,
   "metadata": {},
   "outputs": [
    {
     "data": {
      "text/html": [
       "25596421620.257484 imperial_barrel"
      ],
      "text/latex": [
       "$25596421620.257484\\ \\mathrm{imperial_barrel}$"
      ],
      "text/plain": [
       "<Quantity(25596421620.257484, 'imperial_barrel')>"
      ]
     },
     "execution_count": 20,
     "metadata": {},
     "output_type": "execute_result"
    }
   ],
   "source": [
    "hcip.to('imperial_barrel')"
   ]
  },
  {
   "cell_type": "markdown",
   "metadata": {},
   "source": [
    "An Imperial barrel is 43 gallons ([Wikipedia](https://en.wikipedia.org/wiki/Barrel_(unit))), whereas an oil barrel is only 42 gallons. So let's define a custom unit:"
   ]
  },
  {
   "cell_type": "code",
   "execution_count": 21,
   "metadata": {},
   "outputs": [],
   "source": [
    "unit.define('oil_barrel = 42 gallon = bbl')"
   ]
  },
  {
   "cell_type": "code",
   "execution_count": 22,
   "metadata": {},
   "outputs": [
    {
     "data": {
      "text/html": [
       "26348589118.31922 oil_barrel"
      ],
      "text/latex": [
       "$26348589118.31922\\ \\mathrm{oil_barrel}$"
      ],
      "text/plain": [
       "<Quantity(26348589118.31922, 'oil_barrel')>"
      ]
     },
     "execution_count": 22,
     "metadata": {},
     "output_type": "execute_result"
    }
   ],
   "source": [
    "hcip.to('bbl')"
   ]
  },
  {
   "cell_type": "markdown",
   "metadata": {},
   "source": [
    "[For more on conversion to bbl, BOE, etc.](https://en.wikipedia.org/wiki/Barrel_of_oil_equivalent)"
   ]
  },
  {
   "cell_type": "markdown",
   "metadata": {},
   "source": [
    "## What's this worth?"
   ]
  },
  {
   "cell_type": "code",
   "execution_count": 23,
   "metadata": {},
   "outputs": [
    {
     "name": "stdout",
     "output_type": "stream",
     "text": [
      "Requirement already satisfied: requests in /home/matt/anaconda3/envs/digdisc/lib/python3.6/site-packages (2.20.0)\n",
      "Requirement already satisfied: urllib3<1.25,>=1.21.1 in /home/matt/anaconda3/envs/digdisc/lib/python3.6/site-packages (from requests) (1.24)\n",
      "Requirement already satisfied: certifi>=2017.4.17 in /home/matt/anaconda3/envs/digdisc/lib/python3.6/site-packages (from requests) (2018.10.15)\n",
      "Requirement already satisfied: chardet<3.1.0,>=3.0.2 in /home/matt/anaconda3/envs/digdisc/lib/python3.6/site-packages (from requests) (3.0.4)\n",
      "Requirement already satisfied: idna<2.8,>=2.5 in /home/matt/anaconda3/envs/digdisc/lib/python3.6/site-packages (from requests) (2.7)\n"
     ]
    }
   ],
   "source": [
    "!pip install requests"
   ]
  },
  {
   "cell_type": "code",
   "execution_count": 24,
   "metadata": {},
   "outputs": [],
   "source": [
    "import requests\n",
    "\n",
    "url = 'https://www.quandl.com/api/v3/datasets/CHRIS/ICE_B1/data.json'\n",
    "params = dict(start_date='2018-10-01',\n",
    "              column_index='open',\n",
    "              exclude_column_names='true',\n",
    "             )\n",
    "\n",
    "re = requests.get(url, params)\n",
    "\n",
    "data = re.json()"
   ]
  },
  {
   "cell_type": "code",
   "execution_count": 25,
   "metadata": {},
   "outputs": [
    {
     "data": {
      "text/plain": [
       "{'dataset_data': {'limit': None,\n",
       "  'transform': None,\n",
       "  'column_index': 1,\n",
       "  'column_names': ['Date', 'Open'],\n",
       "  'start_date': '2018-10-01',\n",
       "  'end_date': '2018-10-24',\n",
       "  'frequency': 'daily',\n",
       "  'data': [['2018-10-24', 76.35],\n",
       "   ['2018-10-23', 80.04],\n",
       "   ['2018-10-22', 80.11],\n",
       "   ['2018-10-19', 79.44],\n",
       "   ['2018-10-18', 80.23],\n",
       "   ['2018-10-17', 81.74],\n",
       "   ['2018-10-16', 80.88],\n",
       "   ['2018-10-15', 81.0],\n",
       "   ['2018-10-12', 80.28],\n",
       "   ['2018-10-11', 82.47],\n",
       "   ['2018-10-10', 84.98],\n",
       "   ['2018-10-09', 83.91],\n",
       "   ['2018-10-08', 84.17],\n",
       "   ['2018-10-05', 84.89],\n",
       "   ['2018-10-04', 85.99],\n",
       "   ['2018-10-03', 84.79],\n",
       "   ['2018-10-02', 84.95],\n",
       "   ['2018-10-01', 82.79]],\n",
       "  'collapse': None,\n",
       "  'order': None}}"
      ]
     },
     "execution_count": 25,
     "metadata": {},
     "output_type": "execute_result"
    }
   ],
   "source": [
    "data"
   ]
  },
  {
   "cell_type": "code",
   "execution_count": 26,
   "metadata": {},
   "outputs": [],
   "source": [
    "%matplotlib inline\n",
    "import matplotlib.pyplot as plt"
   ]
  },
  {
   "cell_type": "code",
   "execution_count": 27,
   "metadata": {},
   "outputs": [],
   "source": [
    "import pandas as pd\n",
    "\n",
    "df = pd.DataFrame(data['dataset_data']['data'], columns=['Date', 'Price'])"
   ]
  },
  {
   "cell_type": "code",
   "execution_count": 28,
   "metadata": {},
   "outputs": [
    {
     "data": {
      "text/html": [
       "<div>\n",
       "<style scoped>\n",
       "    .dataframe tbody tr th:only-of-type {\n",
       "        vertical-align: middle;\n",
       "    }\n",
       "\n",
       "    .dataframe tbody tr th {\n",
       "        vertical-align: top;\n",
       "    }\n",
       "\n",
       "    .dataframe thead th {\n",
       "        text-align: right;\n",
       "    }\n",
       "</style>\n",
       "<table border=\"1\" class=\"dataframe\">\n",
       "  <thead>\n",
       "    <tr style=\"text-align: right;\">\n",
       "      <th></th>\n",
       "      <th>Date</th>\n",
       "      <th>Price</th>\n",
       "    </tr>\n",
       "  </thead>\n",
       "  <tbody>\n",
       "    <tr>\n",
       "      <th>0</th>\n",
       "      <td>2018-10-24</td>\n",
       "      <td>76.35</td>\n",
       "    </tr>\n",
       "    <tr>\n",
       "      <th>1</th>\n",
       "      <td>2018-10-23</td>\n",
       "      <td>80.04</td>\n",
       "    </tr>\n",
       "    <tr>\n",
       "      <th>2</th>\n",
       "      <td>2018-10-22</td>\n",
       "      <td>80.11</td>\n",
       "    </tr>\n",
       "    <tr>\n",
       "      <th>3</th>\n",
       "      <td>2018-10-19</td>\n",
       "      <td>79.44</td>\n",
       "    </tr>\n",
       "    <tr>\n",
       "      <th>4</th>\n",
       "      <td>2018-10-18</td>\n",
       "      <td>80.23</td>\n",
       "    </tr>\n",
       "  </tbody>\n",
       "</table>\n",
       "</div>"
      ],
      "text/plain": [
       "         Date  Price\n",
       "0  2018-10-24  76.35\n",
       "1  2018-10-23  80.04\n",
       "2  2018-10-22  80.11\n",
       "3  2018-10-19  79.44\n",
       "4  2018-10-18  80.23"
      ]
     },
     "execution_count": 28,
     "metadata": {},
     "output_type": "execute_result"
    }
   ],
   "source": [
    "df.head()"
   ]
  },
  {
   "cell_type": "code",
   "execution_count": 29,
   "metadata": {},
   "outputs": [],
   "source": [
    "df['Date'] = pd.to_datetime(df['Date'])\n",
    "df = df.set_index('Date')"
   ]
  },
  {
   "cell_type": "code",
   "execution_count": 30,
   "metadata": {},
   "outputs": [
    {
     "data": {
      "image/png": "[encoded data removed]",
      "text/plain": [
       "<Figure size 432x288 with 1 Axes>"
      ]
     },
     "metadata": {
      "needs_background": "light"
     },
     "output_type": "display_data"
    }
   ],
   "source": [
    "df.Price.plot()\n",
    "plt.title(\"Brent price in October\")\n",
    "plt.grid()\n",
    "plt.show()"
   ]
  },
  {
   "cell_type": "code",
   "execution_count": 31,
   "metadata": {},
   "outputs": [],
   "source": [
    "unit.define('usd = [currency]')"
   ]
  },
  {
   "cell_type": "code",
   "execution_count": 33,
   "metadata": {},
   "outputs": [],
   "source": [
    "value = hcip.to('bbl') * df.Price.mean() * unit.usd / unit.bbl"
   ]
  },
  {
   "cell_type": "code",
   "execution_count": 34,
   "metadata": {},
   "outputs": [
    {
     "data": {
      "text/plain": [
       "'Hypothetical value: 2.16e+12 usd'"
      ]
     },
     "execution_count": 34,
     "metadata": {},
     "output_type": "execute_result"
    }
   ],
   "source": [
    "f\"Hypothetical value: {value:0.2e}\""
   ]
  },
  {
   "cell_type": "markdown",
   "metadata": {},
   "source": [
    "## Monte Carlo simulation\n",
    "\n",
    "So far, everything we've done has been deterministic. That is, given a set of parameters, we'll always get the same answer. But often, we'd like to deal with uncertainty. One way to do this is with stochastic simulation --- drawing random variables from a distribution.\n",
    "\n",
    "We can draw randomly from distributions of properties:\n",
    "\n",
    "- Normal: https://docs.scipy.org/doc/numpy/reference/generated/numpy.random.normal.html\n",
    "- Uniform: https://docs.scipy.org/doc/numpy/reference/generated/numpy.random.uniform.html\n",
    "- Lognormal: https://docs.scipy.org/doc/numpy/reference/generated/numpy.random.lognormal.html"
   ]
  },
  {
   "cell_type": "code",
   "execution_count": 35,
   "metadata": {},
   "outputs": [],
   "source": [
    "def calculate_hcip(thick, area, height, top, netg, por, s_o, fvf):\n",
    "    grv = calculate_grv(thick, area)\n",
    "    grv *= geometric_factor(thick, height, top)\n",
    "    hcpv = calculate_hcpv(netg, por, s_o)\n",
    "    return grv * hcpv / fvf"
   ]
  },
  {
   "cell_type": "code",
   "execution_count": 36,
   "metadata": {},
   "outputs": [],
   "source": [
    "import numpy as np\n",
    "\n",
    "trials = 100\n",
    "\n",
    "area = np.random.normal(loc=2e4*3e4, scale=1e4, size=trials) * unit.m * unit.m\n",
    "por = np.random.normal(loc=0.15, scale=0.025, size=trials)"
   ]
  },
  {
   "cell_type": "code",
   "execution_count": 37,
   "metadata": {},
   "outputs": [
    {
     "data": {
      "image/png": "[encoded data removed]",
      "text/plain": [
       "<Figure size 432x288 with 1 Axes>"
      ]
     },
     "metadata": {
      "needs_background": "light"
     },
     "output_type": "display_data"
    }
   ],
   "source": [
    "_ = plt.hist(por)"
   ]
  },
  {
   "cell_type": "code",
   "execution_count": 40,
   "metadata": {},
   "outputs": [],
   "source": [
    "height = 100\n",
    "hcip = calculate_hcip(thick, area, height, top, netg, por, s_o, fvf)"
   ]
  },
  {
   "cell_type": "code",
   "execution_count": 41,
   "metadata": {},
   "outputs": [
    {
     "data": {
      "text/html": [
       "\\[\\begin{pmatrix}2253643548.4328938 & 2258353673.9434595 & 3326311698.944839 & 2919566841.2396755 & 3425671065.002929 & 2866724578.835345 & 2500525735.240027 & 2797657287.746318 & 2205741012.817706 & 3233196783.8208604 & 2382607947.511575 & 2277090166.167838 & 2272953373.85662 & 3394103730.355063 & 2234236993.9116564 & 2611754056.750725 & 3075436081.1407223 & 2418291809.726708 & 2613478951.0518117 & 2252294351.7466307 & 1970267280.3621888 & 2783385669.1834745 & 2686056462.7357206 & 2757142481.2818623 & 3043306960.741864 & 3203279675.8576665 & 2878092600.0113883 & 2842764647.281264 & 2019560896.3695846 & 2219143400.2295117 & 2085481204.3007486 & 2180766784.0782547 & 3101004394.6345816 & 2619336239.045615 & 1840915466.3037314 & 2729458667.8673453 & 2736052324.209399 & 2624190963.6891303 & 2963558656.856791 & 2542875668.852662 & 2876768326.902816 & 3030504219.9130363 & 2133933174.0375226 & 3030602432.570963 & 2277601057.9486647 & 2385697535.7435293 & 2982142615.6256 & 3063776600.5818653 & 2264543864.6870656 & 2608804200.698447 & 2962665691.1649284 & 2645602903.772648 & 2053917657.254889 & 2495703550.30484 & 2545320763.9333663 & 2544568359.954103 & 2929517163.831329 & 2928654367.989848 & 3048658061.93606 & 3167605813.8524213 & 2491886640.4183483 & 2505393995.8931828 & 2969722462.4343066 & 3506803508.9398856 & 2492285086.2654896 & 2804080358.094717 & 2099166326.677092 & 3183016563.7262893 & 2855365237.605381 & 1869242735.6040707 & 1484237141.6964178 & 2158994612.8279233 & 2266641461.9384995 & 2560818272.2379494 & 2910985398.635573 & 2757488318.859304 & 2198296570.6139283 & 2790871039.7465787 & 2687174718.4665174 & 1762376262.0576892 & 3234812630.254149 & 1741107905.6453607 & 1899942954.13619 & 2047664773.4840994 & 2586948140.740802 & 2626672607.729983 & 1636441703.6338875 & 3112014149.164018 & 1603864822.8099015 & 2160566426.336618 & 2088586002.8534758 & 2344353092.2748356 & 3516256354.8902907 & 3130283893.0104294 & 2311012128.659296 & 2433713964.3551493 & 3005667875.4684553 & 3146707328.7207885 & 2647626024.606806 & 3253374982.379844\\end{pmatrix} meter<sup>3</sup>\\]"
      ],
      "text/latex": [
       "$\\begin{pmatrix}2253643548.4328938 & 2258353673.9434595 & 3326311698.944839 & 2919566841.2396755 & 3425671065.002929 & 2866724578.835345 & 2500525735.240027 & 2797657287.746318 & 2205741012.817706 & 3233196783.8208604 & 2382607947.511575 & 2277090166.167838 & 2272953373.85662 & 3394103730.355063 & 2234236993.9116564 & 2611754056.750725 & 3075436081.1407223 & 2418291809.726708 & 2613478951.0518117 & 2252294351.7466307 & 1970267280.3621888 & 2783385669.1834745 & 2686056462.7357206 & 2757142481.2818623 & 3043306960.741864 & 3203279675.8576665 & 2878092600.0113883 & 2842764647.281264 & 2019560896.3695846 & 2219143400.2295117 & 2085481204.3007486 & 2180766784.0782547 & 3101004394.6345816 & 2619336239.045615 & 1840915466.3037314 & 2729458667.8673453 & 2736052324.209399 & 2624190963.6891303 & 2963558656.856791 & 2542875668.852662 & 2876768326.902816 & 3030504219.9130363 & 2133933174.0375226 & 3030602432.570963 & 2277601057.9486647 & 2385697535.7435293 & 2982142615.6256 & 3063776600.5818653 & 2264543864.6870656 & 2608804200.698447 & 2962665691.1649284 & 2645602903.772648 & 2053917657.254889 & 2495703550.30484 & 2545320763.9333663 & 2544568359.954103 & 2929517163.831329 & 2928654367.989848 & 3048658061.93606 & 3167605813.8524213 & 2491886640.4183483 & 2505393995.8931828 & 2969722462.4343066 & 3506803508.9398856 & 2492285086.2654896 & 2804080358.094717 & 2099166326.677092 & 3183016563.7262893 & 2855365237.605381 & 1869242735.6040707 & 1484237141.6964178 & 2158994612.8279233 & 2266641461.9384995 & 2560818272.2379494 & 2910985398.635573 & 2757488318.859304 & 2198296570.6139283 & 2790871039.7465787 & 2687174718.4665174 & 1762376262.0576892 & 3234812630.254149 & 1741107905.6453607 & 1899942954.13619 & 2047664773.4840994 & 2586948140.740802 & 2626672607.729983 & 1636441703.6338875 & 3112014149.164018 & 1603864822.8099015 & 2160566426.336618 & 2088586002.8534758 & 2344353092.2748356 & 3516256354.8902907 & 3130283893.0104294 & 2311012128.659296 & 2433713964.3551493 & 3005667875.4684553 & 3146707328.7207885 & 2647626024.606806 & 3253374982.379844\\end{pmatrix}\\ \\mathrm{meter}^{3}$"
      ],
      "text/plain": [
       "<Quantity([2.25364355e+09 2.25835367e+09 3.32631170e+09 2.91956684e+09\n",
       " 3.42567107e+09 2.86672458e+09 2.50052574e+09 2.79765729e+09\n",
       " 2.20574101e+09 3.23319678e+09 2.38260795e+09 2.27709017e+09\n",
       " 2.27295337e+09 3.39410373e+09 2.23423699e+09 2.61175406e+09\n",
       " 3.07543608e+09 2.41829181e+09 2.61347895e+09 2.25229435e+09\n",
       " 1.97026728e+09 2.78338567e+09 2.68605646e+09 2.75714248e+09\n",
       " 3.04330696e+09 3.20327968e+09 2.87809260e+09 2.84276465e+09\n",
       " 2.01956090e+09 2.21914340e+09 2.08548120e+09 2.18076678e+09\n",
       " 3.10100439e+09 2.61933624e+09 1.84091547e+09 2.72945867e+09\n",
       " 2.73605232e+09 2.62419096e+09 2.96355866e+09 2.54287567e+09\n",
       " 2.87676833e+09 3.03050422e+09 2.13393317e+09 3.03060243e+09\n",
       " 2.27760106e+09 2.38569754e+09 2.98214262e+09 3.06377660e+09\n",
       " 2.26454386e+09 2.60880420e+09 2.96266569e+09 2.64560290e+09\n",
       " 2.05391766e+09 2.49570355e+09 2.54532076e+09 2.54456836e+09\n",
       " 2.92951716e+09 2.92865437e+09 3.04865806e+09 3.16760581e+09\n",
       " 2.49188664e+09 2.50539400e+09 2.96972246e+09 3.50680351e+09\n",
       " 2.49228509e+09 2.80408036e+09 2.09916633e+09 3.18301656e+09\n",
       " 2.85536524e+09 1.86924274e+09 1.48423714e+09 2.15899461e+09\n",
       " 2.26664146e+09 2.56081827e+09 2.91098540e+09 2.75748832e+09\n",
       " 2.19829657e+09 2.79087104e+09 2.68717472e+09 1.76237626e+09\n",
       " 3.23481263e+09 1.74110791e+09 1.89994295e+09 2.04766477e+09\n",
       " 2.58694814e+09 2.62667261e+09 1.63644170e+09 3.11201415e+09\n",
       " 1.60386482e+09 2.16056643e+09 2.08858600e+09 2.34435309e+09\n",
       " 3.51625635e+09 3.13028389e+09 2.31101213e+09 2.43371396e+09\n",
       " 3.00566788e+09 3.14670733e+09 2.64762602e+09 3.25337498e+09], 'meter ** 3')>"
      ]
     },
     "execution_count": 41,
     "metadata": {},
     "output_type": "execute_result"
    }
   ],
   "source": [
    "hcip"
   ]
  },
  {
   "cell_type": "code",
   "execution_count": null,
   "metadata": {},
   "outputs": [],
   "source": [
    "!pip install seaborn"
   ]
  },
  {
   "cell_type": "code",
   "execution_count": 42,
   "metadata": {},
   "outputs": [],
   "source": [
    "import seaborn as sns\n",
    "\n",
    "def plot_hcip(hcip):\n",
    "    p10, p50, p90 = np.percentile(hcip, 10), np.median(hcip), np.percentile(hcip, 90)\n",
    "    ax = sns.distplot(hcip, rug=True)\n",
    "    plt.axvline(p10, alpha=0.4)\n",
    "    plt.axvline(p50, alpha=0.4)\n",
    "    plt.axvline(p90, alpha=0.4)\n",
    "    plt.show()"
   ]
  },
  {
   "cell_type": "code",
   "execution_count": 43,
   "metadata": {},
   "outputs": [
    {
     "name": "stderr",
     "output_type": "stream",
     "text": [
      "/home/matt/anaconda3/envs/digdisc/lib/python3.6/site-packages/scipy/stats/stats.py:1713: FutureWarning: Using a non-tuple sequence for multidimensional indexing is deprecated; use `arr[tuple(seq)]` instead of `arr[seq]`. In the future this will be interpreted as an array index, `arr[np.array(seq)]`, which will result either in an error or a different result.\n",
      "  return np.add.reduce(sorted[indexer] * weights, axis=axis) / sumval\n"
     ]
    },
    {
     "data": {
      "image/png": "[encoded data removed]",
      "text/plain": [
       "<Figure size 432x288 with 1 Axes>"
      ]
     },
     "metadata": {
      "needs_background": "light"
     },
     "output_type": "display_data"
    }
   ],
   "source": [
    "plot_hcip(hcip)"
   ]
  },
  {
   "cell_type": "markdown",
   "metadata": {},
   "source": [
    "The histogram looks a bit ragged, but this is probably because of the relatively small number of samples."
   ]
  },
  {
   "cell_type": "markdown",
   "metadata": {},
   "source": [
    "### Exercise\n",
    "\n",
    "1. How does the histogram look if you take 1000 samples instead of 100?\n",
    "1. Make distributions for some of the other properties, like net:gross, thickness and FVF.\n",
    "1. Maybe our functions should check that we don't get unreasonable values, like negative numbers, or decimal fractions over 1.0 Try to implement this if you have time."
   ]
  },
  {
   "cell_type": "markdown",
   "metadata": {},
   "source": [
    "## Using more sophisticated distributions\n",
    "\n",
    "`scipy` has some distribution functions too. While they're a bit more complicated to use than NumPy's, they are more rigorous. For example, they allow us to fit to data.\n",
    "\n",
    "Following [this post](https://mikulskibartosz.name/monte-carlo-simulation-in-python-d63f0cfcdf6f)"
   ]
  },
  {
   "cell_type": "code",
   "execution_count": 44,
   "metadata": {},
   "outputs": [
    {
     "data": {
      "image/png": "[encoded data removed]",
      "text/plain": [
       "<Figure size 432x288 with 1 Axes>"
      ]
     },
     "metadata": {
      "needs_background": "light"
     },
     "output_type": "display_data"
    }
   ],
   "source": [
    "from scipy.stats import norm\n",
    "\n",
    "normal_distribution = norm(loc=3, scale=2)\n",
    "\n",
    "x = np.linspace(-6, 12, 200)\n",
    "pdf = normal_distribution.pdf(x)\n",
    "\n",
    "plt.plot(x, pdf)\n",
    "plt.show()"
   ]
  },
  {
   "cell_type": "code",
   "execution_count": 45,
   "metadata": {},
   "outputs": [
    {
     "data": {
      "text/plain": [
       "array([ 0.32742367,  4.1970351 ,  1.15757663,  4.67241194,  4.21836754,\n",
       "        2.06652157,  4.01075953,  0.48899858,  3.21980873,  4.48737317,\n",
       "        1.51442905,  1.31560359,  3.05767847,  1.70279201,  2.24654248,\n",
       "        3.21367882,  4.5183195 , -2.05717651, -1.47833114,  1.3118163 ,\n",
       "       -1.39033532,  3.25303713,  3.8080567 ,  4.01722603,  2.17139061,\n",
       "        2.49148595,  3.90778375,  4.74841678,  1.38108294,  4.05013959,\n",
       "        0.83767218,  4.36661303,  4.7875273 ,  0.57868556,  4.45733949,\n",
       "        3.58971851,  6.57921959,  1.44450457,  1.74937431,  2.73653658,\n",
       "        1.32950049,  5.49940658,  3.21067233,  2.63164472,  0.10380764,\n",
       "        3.03468319, -0.29022738,  4.28872213,  1.20937643,  4.033434  ,\n",
       "        2.98475682,  7.29715008,  5.3757867 , -0.05753365,  1.34333584,\n",
       "        3.0572442 ,  5.87430422,  1.32317406, -1.38177285, -0.03309972,\n",
       "        3.42915836,  4.89448132, -1.24860512,  0.7444635 ,  4.53705502,\n",
       "       -0.91530337,  2.89947402,  5.08622672,  7.01938467,  2.85413284,\n",
       "        5.11142246,  4.86081673,  4.13039518, -1.04862378,  0.92944357,\n",
       "        2.57288373,  1.52110506,  5.36596869,  5.44982362,  2.86250248,\n",
       "        2.81231328,  4.80651948,  2.89283037,  5.53791412,  3.04176737,\n",
       "        2.92847194, -0.476043  ,  0.85553749,  2.46770067,  1.53347439,\n",
       "       -0.17923194,  2.16194076, -0.45218339,  6.61422838,  3.58737955,\n",
       "        1.85402636,  2.33879617, -0.85717912,  1.32521227,  4.62447767])"
      ]
     },
     "execution_count": 45,
     "metadata": {},
     "output_type": "execute_result"
    }
   ],
   "source": [
    "normal_distribution.rvs(trials)"
   ]
  },
  {
   "cell_type": "markdown",
   "metadata": {},
   "source": [
    "Let's fit a log-normal distribution to some porosity data."
   ]
  },
  {
   "cell_type": "code",
   "execution_count": 46,
   "metadata": {},
   "outputs": [],
   "source": [
    "df = pd.read_csv(\"../data/Atkinson_etal_1990_Porosity_data_Alaska_North_Slope.csv\", index_col=0)"
   ]
  },
  {
   "cell_type": "code",
   "execution_count": 47,
   "metadata": {},
   "outputs": [
    {
     "data": {
      "text/html": [
       "<div>\n",
       "<style scoped>\n",
       "    .dataframe tbody tr th:only-of-type {\n",
       "        vertical-align: middle;\n",
       "    }\n",
       "\n",
       "    .dataframe tbody tr th {\n",
       "        vertical-align: top;\n",
       "    }\n",
       "\n",
       "    .dataframe thead th {\n",
       "        text-align: right;\n",
       "    }\n",
       "</style>\n",
       "<table border=\"1\" class=\"dataframe\">\n",
       "  <thead>\n",
       "    <tr style=\"text-align: right;\">\n",
       "      <th></th>\n",
       "      <th>Porosity</th>\n",
       "      <th>Facies</th>\n",
       "    </tr>\n",
       "  </thead>\n",
       "  <tbody>\n",
       "    <tr>\n",
       "      <th>0</th>\n",
       "      <td>21.0</td>\n",
       "      <td>mid braided</td>\n",
       "    </tr>\n",
       "    <tr>\n",
       "      <th>1</th>\n",
       "      <td>21.3</td>\n",
       "      <td>mid braided</td>\n",
       "    </tr>\n",
       "    <tr>\n",
       "      <th>2</th>\n",
       "      <td>22.5</td>\n",
       "      <td>mid braided</td>\n",
       "    </tr>\n",
       "    <tr>\n",
       "      <th>3</th>\n",
       "      <td>23.7</td>\n",
       "      <td>mid braided</td>\n",
       "    </tr>\n",
       "    <tr>\n",
       "      <th>4</th>\n",
       "      <td>25.8</td>\n",
       "      <td>mid braided</td>\n",
       "    </tr>\n",
       "  </tbody>\n",
       "</table>\n",
       "</div>"
      ],
      "text/plain": [
       "   Porosity       Facies\n",
       "0      21.0  mid braided\n",
       "1      21.3  mid braided\n",
       "2      22.5  mid braided\n",
       "3      23.7  mid braided\n",
       "4      25.8  mid braided"
      ]
     },
     "execution_count": 47,
     "metadata": {},
     "output_type": "execute_result"
    }
   ],
   "source": [
    "df.head()"
   ]
  },
  {
   "cell_type": "code",
   "execution_count": 48,
   "metadata": {},
   "outputs": [
    {
     "data": {
      "text/plain": [
       "array(['mid braided', 'distal braided', 'distal fluvial'], dtype=object)"
      ]
     },
     "execution_count": 48,
     "metadata": {},
     "output_type": "execute_result"
    }
   ],
   "source": [
    "df.Facies.unique()"
   ]
  },
  {
   "cell_type": "code",
   "execution_count": 49,
   "metadata": {},
   "outputs": [],
   "source": [
    "filt = df[df.Facies == 'distal fluvial']"
   ]
  },
  {
   "cell_type": "code",
   "execution_count": 50,
   "metadata": {},
   "outputs": [],
   "source": [
    "from scipy.stats import lognorm\n",
    "\n",
    "s, loc, scale = lognorm.fit(filt.Porosity/100)"
   ]
  },
  {
   "cell_type": "code",
   "execution_count": 51,
   "metadata": {},
   "outputs": [
    {
     "data": {
      "text/plain": [
       "(0.0043003457925543005, -7.324267327734386, 7.5404039385185815)"
      ]
     },
     "execution_count": 51,
     "metadata": {},
     "output_type": "execute_result"
    }
   ],
   "source": [
    "s, loc, scale"
   ]
  },
  {
   "cell_type": "code",
   "execution_count": 52,
   "metadata": {},
   "outputs": [
    {
     "data": {
      "image/png": "[encoded data removed]",
      "text/plain": [
       "<Figure size 432x288 with 2 Axes>"
      ]
     },
     "metadata": {
      "needs_background": "light"
     },
     "output_type": "display_data"
    }
   ],
   "source": [
    "x = np.linspace(0, 0.40, 200)\n",
    "\n",
    "_, ax = plt.subplots()\n",
    "plt.hist(filt.Porosity/100, bins=20)\n",
    "ax2 = ax.twinx()\n",
    "ax2.plot(x, lognorm.pdf(x, loc=loc, scale=scale, s=s), 'r')\n",
    "plt.show()"
   ]
  },
  {
   "cell_type": "code",
   "execution_count": 53,
   "metadata": {},
   "outputs": [
    {
     "data": {
      "image/png": "[encoded data removed]",
      "text/plain": [
       "<Figure size 432x288 with 1 Axes>"
      ]
     },
     "metadata": {
      "needs_background": "light"
     },
     "output_type": "display_data"
    }
   ],
   "source": [
    "por = lognorm.rvs(s=s, size=trials)\n",
    "\n",
    "hcip = calculate_hcip(thick, area, height, top, netg, por, s_o, fvf)\n",
    "\n",
    "plot_hcip(hcip)"
   ]
  },
  {
   "cell_type": "markdown",
   "metadata": {},
   "source": [
    "## Working on lots of prospects\n",
    "\n",
    "Let's try reading data from a CSV."
   ]
  },
  {
   "cell_type": "code",
   "execution_count": 54,
   "metadata": {},
   "outputs": [],
   "source": [
    "df = pd.read_csv('../data/prospects.csv')"
   ]
  },
  {
   "cell_type": "code",
   "execution_count": 55,
   "metadata": {},
   "outputs": [
    {
     "data": {
      "text/html": [
       "<div>\n",
       "<style scoped>\n",
       "    .dataframe tbody tr th:only-of-type {\n",
       "        vertical-align: middle;\n",
       "    }\n",
       "\n",
       "    .dataframe tbody tr th {\n",
       "        vertical-align: top;\n",
       "    }\n",
       "\n",
       "    .dataframe thead th {\n",
       "        text-align: right;\n",
       "    }\n",
       "</style>\n",
       "<table border=\"1\" class=\"dataframe\">\n",
       "  <thead>\n",
       "    <tr style=\"text-align: right;\">\n",
       "      <th></th>\n",
       "      <th>Index</th>\n",
       "      <th>Name</th>\n",
       "      <th>Thick [m]</th>\n",
       "      <th>Area [km2]</th>\n",
       "      <th>GeomFactor</th>\n",
       "      <th>N:G</th>\n",
       "      <th>phi</th>\n",
       "      <th>So</th>\n",
       "      <th>Bo</th>\n",
       "    </tr>\n",
       "  </thead>\n",
       "  <tbody>\n",
       "    <tr>\n",
       "      <th>0</th>\n",
       "      <td>0</td>\n",
       "      <td>Prospect_1</td>\n",
       "      <td>173</td>\n",
       "      <td>65.714854</td>\n",
       "      <td>0.73</td>\n",
       "      <td>0.26</td>\n",
       "      <td>0.150557</td>\n",
       "      <td>0.45</td>\n",
       "      <td>1.10</td>\n",
       "    </tr>\n",
       "    <tr>\n",
       "      <th>1</th>\n",
       "      <td>1</td>\n",
       "      <td>Prospect_2</td>\n",
       "      <td>410</td>\n",
       "      <td>40.684869</td>\n",
       "      <td>0.43</td>\n",
       "      <td>0.59</td>\n",
       "      <td>0.163122</td>\n",
       "      <td>0.38</td>\n",
       "      <td>1.23</td>\n",
       "    </tr>\n",
       "    <tr>\n",
       "      <th>2</th>\n",
       "      <td>2</td>\n",
       "      <td>Prospect_3</td>\n",
       "      <td>160</td>\n",
       "      <td>13.883810</td>\n",
       "      <td>0.55</td>\n",
       "      <td>0.16</td>\n",
       "      <td>0.167810</td>\n",
       "      <td>0.59</td>\n",
       "      <td>1.29</td>\n",
       "    </tr>\n",
       "    <tr>\n",
       "      <th>3</th>\n",
       "      <td>3</td>\n",
       "      <td>Prospect_4</td>\n",
       "      <td>11</td>\n",
       "      <td>5.572679</td>\n",
       "      <td>0.67</td>\n",
       "      <td>0.12</td>\n",
       "      <td>0.176766</td>\n",
       "      <td>0.29</td>\n",
       "      <td>1.20</td>\n",
       "    </tr>\n",
       "    <tr>\n",
       "      <th>4</th>\n",
       "      <td>4</td>\n",
       "      <td>Prospect_5</td>\n",
       "      <td>257</td>\n",
       "      <td>49.995814</td>\n",
       "      <td>0.81</td>\n",
       "      <td>0.31</td>\n",
       "      <td>0.179255</td>\n",
       "      <td>0.14</td>\n",
       "      <td>1.28</td>\n",
       "    </tr>\n",
       "  </tbody>\n",
       "</table>\n",
       "</div>"
      ],
      "text/plain": [
       "   Index        Name  Thick [m]  Area [km2]  GeomFactor   N:G       phi    So  \\\n",
       "0      0  Prospect_1        173   65.714854        0.73  0.26  0.150557  0.45   \n",
       "1      1  Prospect_2        410   40.684869        0.43  0.59  0.163122  0.38   \n",
       "2      2  Prospect_3        160   13.883810        0.55  0.16  0.167810  0.59   \n",
       "3      3  Prospect_4         11    5.572679        0.67  0.12  0.176766  0.29   \n",
       "4      4  Prospect_5        257   49.995814        0.81  0.31  0.179255  0.14   \n",
       "\n",
       "     Bo  \n",
       "0  1.10  \n",
       "1  1.23  \n",
       "2  1.29  \n",
       "3  1.20  \n",
       "4  1.28  "
      ]
     },
     "execution_count": 55,
     "metadata": {},
     "output_type": "execute_result"
    }
   ],
   "source": [
    "df.head()"
   ]
  },
  {
   "cell_type": "code",
   "execution_count": 56,
   "metadata": {},
   "outputs": [],
   "source": [
    "def hcip_df(row):\n",
    "    \"\"\"\n",
    "    Wraps calculate_hcip(), mapping the columns of the prospect\n",
    "    CSV to the required arguments.\n",
    "    \"\"\"\n",
    "    por = norm(loc=row['phi'], scale=0.02).rvs(trials)\n",
    "    hcip = calculate_hcip(thick=row['Thick [m]']*unit.m,\n",
    "                          area=row['Area [km2]']*unit.km**2,\n",
    "                          height=row['Thick [m]'], top='slab',\n",
    "                          netg=row['N:G'],\n",
    "                          por=por,\n",
    "                          s_o=row['So'],\n",
    "                          fvf=row['Bo'],\n",
    "                          )\n",
    "    return np.median(hcip.to('bbl'))"
   ]
  },
  {
   "cell_type": "code",
   "execution_count": 57,
   "metadata": {},
   "outputs": [],
   "source": [
    "df['HCIP [bbl]'] = df.apply(hcip_df, axis=1)"
   ]
  },
  {
   "cell_type": "code",
   "execution_count": 58,
   "metadata": {},
   "outputs": [
    {
     "data": {
      "text/html": [
       "<div>\n",
       "<style scoped>\n",
       "    .dataframe tbody tr th:only-of-type {\n",
       "        vertical-align: middle;\n",
       "    }\n",
       "\n",
       "    .dataframe tbody tr th {\n",
       "        vertical-align: top;\n",
       "    }\n",
       "\n",
       "    .dataframe thead th {\n",
       "        text-align: right;\n",
       "    }\n",
       "</style>\n",
       "<table border=\"1\" class=\"dataframe\">\n",
       "  <thead>\n",
       "    <tr style=\"text-align: right;\">\n",
       "      <th></th>\n",
       "      <th>Index</th>\n",
       "      <th>Name</th>\n",
       "      <th>Thick [m]</th>\n",
       "      <th>Area [km2]</th>\n",
       "      <th>GeomFactor</th>\n",
       "      <th>N:G</th>\n",
       "      <th>phi</th>\n",
       "      <th>So</th>\n",
       "      <th>Bo</th>\n",
       "      <th>HCIP [bbl]</th>\n",
       "    </tr>\n",
       "  </thead>\n",
       "  <tbody>\n",
       "    <tr>\n",
       "      <th>0</th>\n",
       "      <td>0</td>\n",
       "      <td>Prospect_1</td>\n",
       "      <td>173</td>\n",
       "      <td>65.714854</td>\n",
       "      <td>0.73</td>\n",
       "      <td>0.26</td>\n",
       "      <td>0.150557</td>\n",
       "      <td>0.45</td>\n",
       "      <td>1.10</td>\n",
       "      <td>1.124420e+09</td>\n",
       "    </tr>\n",
       "    <tr>\n",
       "      <th>1</th>\n",
       "      <td>1</td>\n",
       "      <td>Prospect_2</td>\n",
       "      <td>410</td>\n",
       "      <td>40.684869</td>\n",
       "      <td>0.43</td>\n",
       "      <td>0.59</td>\n",
       "      <td>0.163122</td>\n",
       "      <td>0.38</td>\n",
       "      <td>1.23</td>\n",
       "      <td>3.166084e+09</td>\n",
       "    </tr>\n",
       "    <tr>\n",
       "      <th>2</th>\n",
       "      <td>2</td>\n",
       "      <td>Prospect_3</td>\n",
       "      <td>160</td>\n",
       "      <td>13.883810</td>\n",
       "      <td>0.55</td>\n",
       "      <td>0.16</td>\n",
       "      <td>0.167810</td>\n",
       "      <td>0.59</td>\n",
       "      <td>1.29</td>\n",
       "      <td>1.733716e+08</td>\n",
       "    </tr>\n",
       "    <tr>\n",
       "      <th>3</th>\n",
       "      <td>3</td>\n",
       "      <td>Prospect_4</td>\n",
       "      <td>11</td>\n",
       "      <td>5.572679</td>\n",
       "      <td>0.67</td>\n",
       "      <td>0.12</td>\n",
       "      <td>0.176766</td>\n",
       "      <td>0.29</td>\n",
       "      <td>1.20</td>\n",
       "      <td>1.989259e+06</td>\n",
       "    </tr>\n",
       "    <tr>\n",
       "      <th>4</th>\n",
       "      <td>4</td>\n",
       "      <td>Prospect_5</td>\n",
       "      <td>257</td>\n",
       "      <td>49.995814</td>\n",
       "      <td>0.81</td>\n",
       "      <td>0.31</td>\n",
       "      <td>0.179255</td>\n",
       "      <td>0.14</td>\n",
       "      <td>1.28</td>\n",
       "      <td>4.926441e+08</td>\n",
       "    </tr>\n",
       "  </tbody>\n",
       "</table>\n",
       "</div>"
      ],
      "text/plain": [
       "   Index        Name  Thick [m]  Area [km2]  GeomFactor   N:G       phi    So  \\\n",
       "0      0  Prospect_1        173   65.714854        0.73  0.26  0.150557  0.45   \n",
       "1      1  Prospect_2        410   40.684869        0.43  0.59  0.163122  0.38   \n",
       "2      2  Prospect_3        160   13.883810        0.55  0.16  0.167810  0.59   \n",
       "3      3  Prospect_4         11    5.572679        0.67  0.12  0.176766  0.29   \n",
       "4      4  Prospect_5        257   49.995814        0.81  0.31  0.179255  0.14   \n",
       "\n",
       "     Bo    HCIP [bbl]  \n",
       "0  1.10  1.124420e+09  \n",
       "1  1.23  3.166084e+09  \n",
       "2  1.29  1.733716e+08  \n",
       "3  1.20  1.989259e+06  \n",
       "4  1.28  4.926441e+08  "
      ]
     },
     "execution_count": 58,
     "metadata": {},
     "output_type": "execute_result"
    }
   ],
   "source": [
    "df.head()"
   ]
  },
  {
   "cell_type": "code",
   "execution_count": 59,
   "metadata": {},
   "outputs": [
    {
     "data": {
      "text/plain": [
       "<matplotlib.axes._subplots.AxesSubplot at 0x7f33c3e41da0>"
      ]
     },
     "execution_count": 59,
     "metadata": {},
     "output_type": "execute_result"
    },
    {
     "data": {
      "image/png": "[encoded data removed]",
      "text/plain": [
       "<Figure size 432x288 with 1 Axes>"
      ]
     },
     "metadata": {
      "needs_background": "light"
     },
     "output_type": "display_data"
    }
   ],
   "source": [
    "df.nlargest(20, 'HCIP [bbl]').plot.bar(x='Name', y='HCIP [bbl]')"
   ]
  },
  {
   "cell_type": "code",
   "execution_count": 60,
   "metadata": {},
   "outputs": [],
   "source": [
    "df.to_csv('prospect_volumes.csv')"
   ]
  },
  {
   "cell_type": "markdown",
   "metadata": {
    "collapsed": true
   },
   "source": [
    "<hr />\n",
    "\n",
    "<div>\n",
    "<img src=\"https://avatars1.githubusercontent.com/u/1692321?s=50\"><p style=\"text-align:center\">© Agile Geoscience 2018</p>\n",
    "</div>"
   ]
  }
 ],
 "metadata": {
  "anaconda-cloud": {},
  "kernelspec": {
   "display_name": "digdisc",
   "language": "python",
   "name": "digdisc"
  },
  "language_info": {
   "codemirror_mode": {
    "name": "ipython",
    "version": 3
   },
   "file_extension": ".py",
   "mimetype": "text/x-python",
   "name": "python",
   "nbconvert_exporter": "python",
   "pygments_lexer": "ipython3",
   "version": "3.6.6"
  }
 },
 "nbformat": 4,
 "nbformat_minor": 1
}
